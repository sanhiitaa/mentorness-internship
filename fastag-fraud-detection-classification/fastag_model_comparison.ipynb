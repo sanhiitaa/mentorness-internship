{
  "nbformat": 4,
  "nbformat_minor": 0,
  "metadata": {
    "colab": {
      "provenance": [],
      "mount_file_id": "1XOPS79GdLph9H87IXDpbc8BokHj3PWL0",
      "authorship_tag": "ABX9TyOvUPYO1kIo0/1JXej50jwG",
      "include_colab_link": true
    },
    "kernelspec": {
      "name": "python3",
      "display_name": "Python 3"
    },
    "language_info": {
      "name": "python"
    }
  },
  "cells": [
    {
      "cell_type": "markdown",
      "metadata": {
        "id": "view-in-github",
        "colab_type": "text"
      },
      "source": [
        "<a href=\"https://colab.research.google.com/github/sanhiitaa/fastag-fraud-detection-classification/blob/main/fastag_model_comparison.ipynb\" target=\"_parent\"><img src=\"https://colab.research.google.com/assets/colab-badge.svg\" alt=\"Open In Colab\"/></a>"
      ]
    },
    {
      "cell_type": "code",
      "execution_count": 42,
      "metadata": {
        "id": "NeVkVGcRAEUe"
      },
      "outputs": [],
      "source": [
        "import pandas as pd\n",
        "import numpy as np\n",
        "import matplotlib.pyplot as plt\n",
        "import seaborn as sns"
      ]
    },
    {
      "cell_type": "code",
      "source": [
        "x_train = pd.read_csv('/content/drive/MyDrive/datasets/fastag dataset/fast_tag_x_train.csv')\n",
        "x_test = pd.read_csv('/content/drive/MyDrive/datasets/fastag dataset/fast_tag_x_test.csv')\n",
        "y_train = pd.read_csv('/content/drive/MyDrive/datasets/fastag dataset/fast_tag_y_train.csv')\n",
        "y_test = pd.read_csv('/content/drive/MyDrive/datasets/fastag dataset/fast_tag_y_test.csv')"
      ],
      "metadata": {
        "id": "Q1lPl9OMqhkk"
      },
      "execution_count": 43,
      "outputs": []
    },
    {
      "cell_type": "markdown",
      "source": [
        "# Models"
      ],
      "metadata": {
        "id": "rrUCqnK5_H9U"
      }
    },
    {
      "cell_type": "code",
      "source": [
        "# helper function\n",
        "def scorer(model_name, df_name, y_test, y_pred):\n",
        "\n",
        "  # importing the metric library\n",
        "  from sklearn.metrics import classification_report\n",
        "\n",
        "  # classififcation report\n",
        "  score= classification_report(y_test, y_pred, output_dict=True)\n",
        "  df_name[model_name]={'accuracy-score': score['accuracy'],\n",
        "                                'precision-score': score['weighted avg']['precision'],\n",
        "                                'recall-score': score['weighted avg']['recall'],\n",
        "                                'f1-score': score['weighted avg']['f1-score']}\n",
        "\n",
        "  return df_name[model_name]"
      ],
      "metadata": {
        "id": "palMquM0JATn"
      },
      "execution_count": 44,
      "outputs": []
    },
    {
      "cell_type": "code",
      "source": [
        "# defining a score dataframe for model scores for comparison later\n",
        "scores = pd.DataFrame()\n",
        "pd.set_option('display.float_format', lambda x: '%.12f' % x)"
      ],
      "metadata": {
        "id": "ZtG6_tnIIhQ8"
      },
      "execution_count": 45,
      "outputs": []
    },
    {
      "cell_type": "markdown",
      "source": [
        "### Logistic Regression"
      ],
      "metadata": {
        "id": "KHGfOXrk_K2y"
      }
    },
    {
      "cell_type": "code",
      "source": [
        "from sklearn.linear_model import LogisticRegression\n",
        "from sklearn.metrics import accuracy_score, confusion_matrix, classification_report\n",
        "\n",
        "le = LogisticRegression()\n",
        "le.fit(x_train, y_train)\n",
        "y_pred = le.predict(x_test)"
      ],
      "metadata": {
        "id": "tSvRNmcRCYoc",
        "colab": {
          "base_uri": "https://localhost:8080/"
        },
        "outputId": "decc431d-554b-435b-87c1-65c2b87930f9"
      },
      "execution_count": 46,
      "outputs": [
        {
          "output_type": "stream",
          "name": "stderr",
          "text": [
            "/usr/local/lib/python3.10/dist-packages/sklearn/utils/validation.py:1143: DataConversionWarning: A column-vector y was passed when a 1d array was expected. Please change the shape of y to (n_samples, ), for example using ravel().\n",
            "  y = column_or_1d(y, warn=True)\n"
          ]
        }
      ]
    },
    {
      "cell_type": "code",
      "source": [
        "scorer('Logistic Regression', scores, y_test, y_pred)"
      ],
      "metadata": {
        "colab": {
          "base_uri": "https://localhost:8080/"
        },
        "id": "MIkcYy06bu8K",
        "outputId": "5f0cb61d-e423-45fb-9271-35228923e80e"
      },
      "execution_count": 47,
      "outputs": [
        {
          "output_type": "execute_result",
          "data": {
            "text/plain": [
              "accuracy-score    0.780666666667\n",
              "precision-score   0.611296395194\n",
              "recall-score      0.780666666667\n",
              "f1-score          0.685677274429\n",
              "Name: Logistic Regression, dtype: float64"
            ]
          },
          "metadata": {},
          "execution_count": 47
        }
      ]
    },
    {
      "cell_type": "markdown",
      "source": [
        "### random forest classifier"
      ],
      "metadata": {
        "id": "AqzR4nWVEZmV"
      }
    },
    {
      "cell_type": "code",
      "source": [
        "from sklearn.ensemble import RandomForestClassifier\n",
        "rf= RandomForestClassifier()\n",
        "rf.fit(x_train, y_train)\n",
        "y_pred= rf.predict(x_test)"
      ],
      "metadata": {
        "colab": {
          "base_uri": "https://localhost:8080/"
        },
        "id": "ayhghqsPefPh",
        "outputId": "e88ccc4b-77dc-4398-9231-7034471bdf2e"
      },
      "execution_count": 48,
      "outputs": [
        {
          "output_type": "stream",
          "name": "stderr",
          "text": [
            "<ipython-input-48-f4a88e5bfd7c>:3: DataConversionWarning: A column-vector y was passed when a 1d array was expected. Please change the shape of y to (n_samples,), for example using ravel().\n",
            "  rf.fit(x_train, y_train)\n"
          ]
        }
      ]
    },
    {
      "cell_type": "code",
      "source": [
        "scorer('Random Forest Classifier', scores, y_test, y_pred)"
      ],
      "metadata": {
        "colab": {
          "base_uri": "https://localhost:8080/"
        },
        "id": "CiwBRa7GEjb7",
        "outputId": "a9a44cff-c0fa-4543-f253-be9d31dbb439"
      },
      "execution_count": 49,
      "outputs": [
        {
          "output_type": "execute_result",
          "data": {
            "text/plain": [
              "accuracy-score    0.764666666667\n",
              "precision-score   0.690363732394\n",
              "recall-score      0.764666666667\n",
              "f1-score          0.704465676348\n",
              "Name: Random Forest Classifier, dtype: float64"
            ]
          },
          "metadata": {},
          "execution_count": 49
        }
      ]
    },
    {
      "cell_type": "markdown",
      "source": [
        "### KNN classifier"
      ],
      "metadata": {
        "id": "RsKTw4lfLNR9"
      }
    },
    {
      "cell_type": "code",
      "source": [
        "from sklearn.neighbors import KNeighborsClassifier\n",
        "knn= KNeighborsClassifier()\n",
        "knn.fit(x_train, y_train)\n",
        "y_pred= knn.predict(x_test)"
      ],
      "metadata": {
        "colab": {
          "base_uri": "https://localhost:8080/"
        },
        "id": "okYpftm_El8M",
        "outputId": "e9751317-bb84-4064-ad25-3a72a085a3a9"
      },
      "execution_count": 50,
      "outputs": [
        {
          "output_type": "stream",
          "name": "stderr",
          "text": [
            "/usr/local/lib/python3.10/dist-packages/sklearn/neighbors/_classification.py:215: DataConversionWarning: A column-vector y was passed when a 1d array was expected. Please change the shape of y to (n_samples,), for example using ravel().\n",
            "  return self._fit(X, y)\n"
          ]
        }
      ]
    },
    {
      "cell_type": "code",
      "source": [
        "scorer('KNN Classifier', scores, y_test, y_pred)"
      ],
      "metadata": {
        "colab": {
          "base_uri": "https://localhost:8080/"
        },
        "id": "Lbp6tUEkLTGZ",
        "outputId": "70dc9248-32f1-4301-c995-aca0740112c8"
      },
      "execution_count": 51,
      "outputs": [
        {
          "output_type": "execute_result",
          "data": {
            "text/plain": [
              "accuracy-score    0.760666666667\n",
              "precision-score   0.693467727005\n",
              "recall-score      0.760666666667\n",
              "f1-score          0.708377007668\n",
              "Name: KNN Classifier, dtype: float64"
            ]
          },
          "metadata": {},
          "execution_count": 51
        }
      ]
    },
    {
      "cell_type": "markdown",
      "source": [
        "### Gradient Boosting Classifier"
      ],
      "metadata": {
        "id": "BzT4oM_iLeOB"
      }
    },
    {
      "cell_type": "code",
      "source": [
        "from sklearn.ensemble import GradientBoostingClassifier\n",
        "gb= GradientBoostingClassifier()\n",
        "gb.fit(x_train, y_train)\n",
        "y_pred= gb.predict(x_test)"
      ],
      "metadata": {
        "colab": {
          "base_uri": "https://localhost:8080/"
        },
        "id": "UHZq1ZrsLa32",
        "outputId": "478c9d66-2a30-413c-e689-0d8db59bdc1e"
      },
      "execution_count": 52,
      "outputs": [
        {
          "output_type": "stream",
          "name": "stderr",
          "text": [
            "/usr/local/lib/python3.10/dist-packages/sklearn/ensemble/_gb.py:437: DataConversionWarning: A column-vector y was passed when a 1d array was expected. Please change the shape of y to (n_samples, ), for example using ravel().\n",
            "  y = column_or_1d(y, warn=True)\n"
          ]
        }
      ]
    },
    {
      "cell_type": "code",
      "source": [
        "scorer('Gradient Boosting Classifier', scores, y_test, y_pred)"
      ],
      "metadata": {
        "colab": {
          "base_uri": "https://localhost:8080/"
        },
        "id": "3kDiET9gLrPl",
        "outputId": "0350bcb8-5d4c-4392-a85d-7bfd65efec7a"
      },
      "execution_count": 53,
      "outputs": [
        {
          "output_type": "execute_result",
          "data": {
            "text/plain": [
              "accuracy-score    0.776000000000\n",
              "precision-score   0.630607973625\n",
              "recall-score      0.776000000000\n",
              "f1-score          0.684585207545\n",
              "Name: Gradient Boosting Classifier, dtype: float64"
            ]
          },
          "metadata": {},
          "execution_count": 53
        }
      ]
    },
    {
      "cell_type": "markdown",
      "source": [
        "### XGBoost"
      ],
      "metadata": {
        "id": "yd3zftMOLzNV"
      }
    },
    {
      "cell_type": "code",
      "source": [
        "from xgboost import XGBClassifier\n",
        "xgb= XGBClassifier()\n",
        "xgb.fit(x_train, y_train)\n",
        "y_pred= xgb.predict(x_test)"
      ],
      "metadata": {
        "id": "51gPKT-ULvTo"
      },
      "execution_count": 54,
      "outputs": []
    },
    {
      "cell_type": "code",
      "source": [
        "scorer('XGBoost', scores, y_test, y_pred)"
      ],
      "metadata": {
        "colab": {
          "base_uri": "https://localhost:8080/"
        },
        "id": "2Ib2shisL7EV",
        "outputId": "c0d7820d-2408-41af-f6c7-56aaeea2703a"
      },
      "execution_count": 55,
      "outputs": [
        {
          "output_type": "execute_result",
          "data": {
            "text/plain": [
              "accuracy-score    0.752666666667\n",
              "precision-score   0.685231762009\n",
              "recall-score      0.752666666667\n",
              "f1-score          0.703969281863\n",
              "Name: XGBoost, dtype: float64"
            ]
          },
          "metadata": {},
          "execution_count": 55
        }
      ]
    },
    {
      "cell_type": "markdown",
      "source": [
        "### CatBoost"
      ],
      "metadata": {
        "id": "a0TJ6hVjMBo5"
      }
    },
    {
      "cell_type": "code",
      "source": [
        "!pip install catboost -q"
      ],
      "metadata": {
        "id": "8CWb5hf4MH7h"
      },
      "execution_count": 56,
      "outputs": []
    },
    {
      "cell_type": "code",
      "source": [
        "from catboost import CatBoostClassifier\n",
        "cat= CatBoostClassifier(verbose=0)\n",
        "cat.fit(x_train, y_train)\n",
        "y_pred= cat.predict(x_test)"
      ],
      "metadata": {
        "id": "ANXqn4WvL_V8"
      },
      "execution_count": 57,
      "outputs": []
    },
    {
      "cell_type": "code",
      "source": [
        "scorer('CatBoost', scores, y_test, y_pred)"
      ],
      "metadata": {
        "colab": {
          "base_uri": "https://localhost:8080/"
        },
        "id": "7UV-C0KyMGOe",
        "outputId": "e0cb4b41-9cae-49a7-e061-18fa3b124df1"
      },
      "execution_count": 58,
      "outputs": [
        {
          "output_type": "execute_result",
          "data": {
            "text/plain": [
              "accuracy-score    0.772000000000\n",
              "precision-score   0.664505122014\n",
              "recall-score      0.772000000000\n",
              "f1-score          0.689421747777\n",
              "Name: CatBoost, dtype: float64"
            ]
          },
          "metadata": {},
          "execution_count": 58
        }
      ]
    },
    {
      "cell_type": "markdown",
      "source": [
        "### SVM Classification"
      ],
      "metadata": {
        "id": "VJesBvIvNGPt"
      }
    },
    {
      "cell_type": "code",
      "source": [
        "from sklearn.svm import SVC\n",
        "svc= SVC(class_weight='balanced')\n",
        "svc.fit(x_train, y_train)\n",
        "y_pred= svc.predict(x_test)"
      ],
      "metadata": {
        "colab": {
          "base_uri": "https://localhost:8080/"
        },
        "id": "5t1m3iJ5MuuF",
        "outputId": "19b89d32-b1a0-4709-8184-70da6a15d1e7"
      },
      "execution_count": 59,
      "outputs": [
        {
          "output_type": "stream",
          "name": "stderr",
          "text": [
            "/usr/local/lib/python3.10/dist-packages/sklearn/utils/validation.py:1143: DataConversionWarning: A column-vector y was passed when a 1d array was expected. Please change the shape of y to (n_samples, ), for example using ravel().\n",
            "  y = column_or_1d(y, warn=True)\n"
          ]
        }
      ]
    },
    {
      "cell_type": "code",
      "source": [
        "scorer('SVM Classification', scores, y_test, y_pred)"
      ],
      "metadata": {
        "colab": {
          "base_uri": "https://localhost:8080/"
        },
        "id": "ZH1LlBqXNObm",
        "outputId": "e34bf6d6-a70f-40f2-d8d4-7d430fa8318b"
      },
      "execution_count": 60,
      "outputs": [
        {
          "output_type": "execute_result",
          "data": {
            "text/plain": [
              "accuracy-score    0.573333333333\n",
              "precision-score   0.728533922218\n",
              "recall-score      0.573333333333\n",
              "f1-score          0.610315676833\n",
              "Name: SVM Classification, dtype: float64"
            ]
          },
          "metadata": {},
          "execution_count": 60
        }
      ]
    },
    {
      "cell_type": "code",
      "source": [
        "scores"
      ],
      "metadata": {
        "colab": {
          "base_uri": "https://localhost:8080/",
          "height": 175
        },
        "id": "0JiaAGq2NP24",
        "outputId": "e9fbc6c1-0d7f-4115-a267-ac1905c9604f"
      },
      "execution_count": 61,
      "outputs": [
        {
          "output_type": "execute_result",
          "data": {
            "text/plain": [
              "                 Logistic Regression  Random Forest Classifier  \\\n",
              "accuracy-score        0.780666666667            0.764666666667   \n",
              "precision-score       0.611296395194            0.690363732394   \n",
              "recall-score          0.780666666667            0.764666666667   \n",
              "f1-score              0.685677274429            0.704465676348   \n",
              "\n",
              "                 KNN Classifier  Gradient Boosting Classifier        XGBoost  \\\n",
              "accuracy-score   0.760666666667                0.776000000000 0.752666666667   \n",
              "precision-score  0.693467727005                0.630607973625 0.685231762009   \n",
              "recall-score     0.760666666667                0.776000000000 0.752666666667   \n",
              "f1-score         0.708377007668                0.684585207545 0.703969281863   \n",
              "\n",
              "                      CatBoost  SVM Classification  \n",
              "accuracy-score  0.772000000000      0.573333333333  \n",
              "precision-score 0.664505122014      0.728533922218  \n",
              "recall-score    0.772000000000      0.573333333333  \n",
              "f1-score        0.689421747777      0.610315676833  "
            ],
            "text/html": [
              "\n",
              "  <div id=\"df-b8aecf38-8e1b-43a6-b828-49dc5116927d\" class=\"colab-df-container\">\n",
              "    <div>\n",
              "<style scoped>\n",
              "    .dataframe tbody tr th:only-of-type {\n",
              "        vertical-align: middle;\n",
              "    }\n",
              "\n",
              "    .dataframe tbody tr th {\n",
              "        vertical-align: top;\n",
              "    }\n",
              "\n",
              "    .dataframe thead th {\n",
              "        text-align: right;\n",
              "    }\n",
              "</style>\n",
              "<table border=\"1\" class=\"dataframe\">\n",
              "  <thead>\n",
              "    <tr style=\"text-align: right;\">\n",
              "      <th></th>\n",
              "      <th>Logistic Regression</th>\n",
              "      <th>Random Forest Classifier</th>\n",
              "      <th>KNN Classifier</th>\n",
              "      <th>Gradient Boosting Classifier</th>\n",
              "      <th>XGBoost</th>\n",
              "      <th>CatBoost</th>\n",
              "      <th>SVM Classification</th>\n",
              "    </tr>\n",
              "  </thead>\n",
              "  <tbody>\n",
              "    <tr>\n",
              "      <th>accuracy-score</th>\n",
              "      <td>0.780666666667</td>\n",
              "      <td>0.764666666667</td>\n",
              "      <td>0.760666666667</td>\n",
              "      <td>0.776000000000</td>\n",
              "      <td>0.752666666667</td>\n",
              "      <td>0.772000000000</td>\n",
              "      <td>0.573333333333</td>\n",
              "    </tr>\n",
              "    <tr>\n",
              "      <th>precision-score</th>\n",
              "      <td>0.611296395194</td>\n",
              "      <td>0.690363732394</td>\n",
              "      <td>0.693467727005</td>\n",
              "      <td>0.630607973625</td>\n",
              "      <td>0.685231762009</td>\n",
              "      <td>0.664505122014</td>\n",
              "      <td>0.728533922218</td>\n",
              "    </tr>\n",
              "    <tr>\n",
              "      <th>recall-score</th>\n",
              "      <td>0.780666666667</td>\n",
              "      <td>0.764666666667</td>\n",
              "      <td>0.760666666667</td>\n",
              "      <td>0.776000000000</td>\n",
              "      <td>0.752666666667</td>\n",
              "      <td>0.772000000000</td>\n",
              "      <td>0.573333333333</td>\n",
              "    </tr>\n",
              "    <tr>\n",
              "      <th>f1-score</th>\n",
              "      <td>0.685677274429</td>\n",
              "      <td>0.704465676348</td>\n",
              "      <td>0.708377007668</td>\n",
              "      <td>0.684585207545</td>\n",
              "      <td>0.703969281863</td>\n",
              "      <td>0.689421747777</td>\n",
              "      <td>0.610315676833</td>\n",
              "    </tr>\n",
              "  </tbody>\n",
              "</table>\n",
              "</div>\n",
              "    <div class=\"colab-df-buttons\">\n",
              "\n",
              "  <div class=\"colab-df-container\">\n",
              "    <button class=\"colab-df-convert\" onclick=\"convertToInteractive('df-b8aecf38-8e1b-43a6-b828-49dc5116927d')\"\n",
              "            title=\"Convert this dataframe to an interactive table.\"\n",
              "            style=\"display:none;\">\n",
              "\n",
              "  <svg xmlns=\"http://www.w3.org/2000/svg\" height=\"24px\" viewBox=\"0 -960 960 960\">\n",
              "    <path d=\"M120-120v-720h720v720H120Zm60-500h600v-160H180v160Zm220 220h160v-160H400v160Zm0 220h160v-160H400v160ZM180-400h160v-160H180v160Zm440 0h160v-160H620v160ZM180-180h160v-160H180v160Zm440 0h160v-160H620v160Z\"/>\n",
              "  </svg>\n",
              "    </button>\n",
              "\n",
              "  <style>\n",
              "    .colab-df-container {\n",
              "      display:flex;\n",
              "      gap: 12px;\n",
              "    }\n",
              "\n",
              "    .colab-df-convert {\n",
              "      background-color: #E8F0FE;\n",
              "      border: none;\n",
              "      border-radius: 50%;\n",
              "      cursor: pointer;\n",
              "      display: none;\n",
              "      fill: #1967D2;\n",
              "      height: 32px;\n",
              "      padding: 0 0 0 0;\n",
              "      width: 32px;\n",
              "    }\n",
              "\n",
              "    .colab-df-convert:hover {\n",
              "      background-color: #E2EBFA;\n",
              "      box-shadow: 0px 1px 2px rgba(60, 64, 67, 0.3), 0px 1px 3px 1px rgba(60, 64, 67, 0.15);\n",
              "      fill: #174EA6;\n",
              "    }\n",
              "\n",
              "    .colab-df-buttons div {\n",
              "      margin-bottom: 4px;\n",
              "    }\n",
              "\n",
              "    [theme=dark] .colab-df-convert {\n",
              "      background-color: #3B4455;\n",
              "      fill: #D2E3FC;\n",
              "    }\n",
              "\n",
              "    [theme=dark] .colab-df-convert:hover {\n",
              "      background-color: #434B5C;\n",
              "      box-shadow: 0px 1px 3px 1px rgba(0, 0, 0, 0.15);\n",
              "      filter: drop-shadow(0px 1px 2px rgba(0, 0, 0, 0.3));\n",
              "      fill: #FFFFFF;\n",
              "    }\n",
              "  </style>\n",
              "\n",
              "    <script>\n",
              "      const buttonEl =\n",
              "        document.querySelector('#df-b8aecf38-8e1b-43a6-b828-49dc5116927d button.colab-df-convert');\n",
              "      buttonEl.style.display =\n",
              "        google.colab.kernel.accessAllowed ? 'block' : 'none';\n",
              "\n",
              "      async function convertToInteractive(key) {\n",
              "        const element = document.querySelector('#df-b8aecf38-8e1b-43a6-b828-49dc5116927d');\n",
              "        const dataTable =\n",
              "          await google.colab.kernel.invokeFunction('convertToInteractive',\n",
              "                                                    [key], {});\n",
              "        if (!dataTable) return;\n",
              "\n",
              "        const docLinkHtml = 'Like what you see? Visit the ' +\n",
              "          '<a target=\"_blank\" href=https://colab.research.google.com/notebooks/data_table.ipynb>data table notebook</a>'\n",
              "          + ' to learn more about interactive tables.';\n",
              "        element.innerHTML = '';\n",
              "        dataTable['output_type'] = 'display_data';\n",
              "        await google.colab.output.renderOutput(dataTable, element);\n",
              "        const docLink = document.createElement('div');\n",
              "        docLink.innerHTML = docLinkHtml;\n",
              "        element.appendChild(docLink);\n",
              "      }\n",
              "    </script>\n",
              "  </div>\n",
              "\n",
              "\n",
              "<div id=\"df-4ee8c03a-26db-42bc-8b94-9ff6a6319b1a\">\n",
              "  <button class=\"colab-df-quickchart\" onclick=\"quickchart('df-4ee8c03a-26db-42bc-8b94-9ff6a6319b1a')\"\n",
              "            title=\"Suggest charts\"\n",
              "            style=\"display:none;\">\n",
              "\n",
              "<svg xmlns=\"http://www.w3.org/2000/svg\" height=\"24px\"viewBox=\"0 0 24 24\"\n",
              "     width=\"24px\">\n",
              "    <g>\n",
              "        <path d=\"M19 3H5c-1.1 0-2 .9-2 2v14c0 1.1.9 2 2 2h14c1.1 0 2-.9 2-2V5c0-1.1-.9-2-2-2zM9 17H7v-7h2v7zm4 0h-2V7h2v10zm4 0h-2v-4h2v4z\"/>\n",
              "    </g>\n",
              "</svg>\n",
              "  </button>\n",
              "\n",
              "<style>\n",
              "  .colab-df-quickchart {\n",
              "      --bg-color: #E8F0FE;\n",
              "      --fill-color: #1967D2;\n",
              "      --hover-bg-color: #E2EBFA;\n",
              "      --hover-fill-color: #174EA6;\n",
              "      --disabled-fill-color: #AAA;\n",
              "      --disabled-bg-color: #DDD;\n",
              "  }\n",
              "\n",
              "  [theme=dark] .colab-df-quickchart {\n",
              "      --bg-color: #3B4455;\n",
              "      --fill-color: #D2E3FC;\n",
              "      --hover-bg-color: #434B5C;\n",
              "      --hover-fill-color: #FFFFFF;\n",
              "      --disabled-bg-color: #3B4455;\n",
              "      --disabled-fill-color: #666;\n",
              "  }\n",
              "\n",
              "  .colab-df-quickchart {\n",
              "    background-color: var(--bg-color);\n",
              "    border: none;\n",
              "    border-radius: 50%;\n",
              "    cursor: pointer;\n",
              "    display: none;\n",
              "    fill: var(--fill-color);\n",
              "    height: 32px;\n",
              "    padding: 0;\n",
              "    width: 32px;\n",
              "  }\n",
              "\n",
              "  .colab-df-quickchart:hover {\n",
              "    background-color: var(--hover-bg-color);\n",
              "    box-shadow: 0 1px 2px rgba(60, 64, 67, 0.3), 0 1px 3px 1px rgba(60, 64, 67, 0.15);\n",
              "    fill: var(--button-hover-fill-color);\n",
              "  }\n",
              "\n",
              "  .colab-df-quickchart-complete:disabled,\n",
              "  .colab-df-quickchart-complete:disabled:hover {\n",
              "    background-color: var(--disabled-bg-color);\n",
              "    fill: var(--disabled-fill-color);\n",
              "    box-shadow: none;\n",
              "  }\n",
              "\n",
              "  .colab-df-spinner {\n",
              "    border: 2px solid var(--fill-color);\n",
              "    border-color: transparent;\n",
              "    border-bottom-color: var(--fill-color);\n",
              "    animation:\n",
              "      spin 1s steps(1) infinite;\n",
              "  }\n",
              "\n",
              "  @keyframes spin {\n",
              "    0% {\n",
              "      border-color: transparent;\n",
              "      border-bottom-color: var(--fill-color);\n",
              "      border-left-color: var(--fill-color);\n",
              "    }\n",
              "    20% {\n",
              "      border-color: transparent;\n",
              "      border-left-color: var(--fill-color);\n",
              "      border-top-color: var(--fill-color);\n",
              "    }\n",
              "    30% {\n",
              "      border-color: transparent;\n",
              "      border-left-color: var(--fill-color);\n",
              "      border-top-color: var(--fill-color);\n",
              "      border-right-color: var(--fill-color);\n",
              "    }\n",
              "    40% {\n",
              "      border-color: transparent;\n",
              "      border-right-color: var(--fill-color);\n",
              "      border-top-color: var(--fill-color);\n",
              "    }\n",
              "    60% {\n",
              "      border-color: transparent;\n",
              "      border-right-color: var(--fill-color);\n",
              "    }\n",
              "    80% {\n",
              "      border-color: transparent;\n",
              "      border-right-color: var(--fill-color);\n",
              "      border-bottom-color: var(--fill-color);\n",
              "    }\n",
              "    90% {\n",
              "      border-color: transparent;\n",
              "      border-bottom-color: var(--fill-color);\n",
              "    }\n",
              "  }\n",
              "</style>\n",
              "\n",
              "  <script>\n",
              "    async function quickchart(key) {\n",
              "      const quickchartButtonEl =\n",
              "        document.querySelector('#' + key + ' button');\n",
              "      quickchartButtonEl.disabled = true;  // To prevent multiple clicks.\n",
              "      quickchartButtonEl.classList.add('colab-df-spinner');\n",
              "      try {\n",
              "        const charts = await google.colab.kernel.invokeFunction(\n",
              "            'suggestCharts', [key], {});\n",
              "      } catch (error) {\n",
              "        console.error('Error during call to suggestCharts:', error);\n",
              "      }\n",
              "      quickchartButtonEl.classList.remove('colab-df-spinner');\n",
              "      quickchartButtonEl.classList.add('colab-df-quickchart-complete');\n",
              "    }\n",
              "    (() => {\n",
              "      let quickchartButtonEl =\n",
              "        document.querySelector('#df-4ee8c03a-26db-42bc-8b94-9ff6a6319b1a button');\n",
              "      quickchartButtonEl.style.display =\n",
              "        google.colab.kernel.accessAllowed ? 'block' : 'none';\n",
              "    })();\n",
              "  </script>\n",
              "</div>\n",
              "\n",
              "  <div id=\"id_472629e4-0274-4873-874c-b67b06ce6a9d\">\n",
              "    <style>\n",
              "      .colab-df-generate {\n",
              "        background-color: #E8F0FE;\n",
              "        border: none;\n",
              "        border-radius: 50%;\n",
              "        cursor: pointer;\n",
              "        display: none;\n",
              "        fill: #1967D2;\n",
              "        height: 32px;\n",
              "        padding: 0 0 0 0;\n",
              "        width: 32px;\n",
              "      }\n",
              "\n",
              "      .colab-df-generate:hover {\n",
              "        background-color: #E2EBFA;\n",
              "        box-shadow: 0px 1px 2px rgba(60, 64, 67, 0.3), 0px 1px 3px 1px rgba(60, 64, 67, 0.15);\n",
              "        fill: #174EA6;\n",
              "      }\n",
              "\n",
              "      [theme=dark] .colab-df-generate {\n",
              "        background-color: #3B4455;\n",
              "        fill: #D2E3FC;\n",
              "      }\n",
              "\n",
              "      [theme=dark] .colab-df-generate:hover {\n",
              "        background-color: #434B5C;\n",
              "        box-shadow: 0px 1px 3px 1px rgba(0, 0, 0, 0.15);\n",
              "        filter: drop-shadow(0px 1px 2px rgba(0, 0, 0, 0.3));\n",
              "        fill: #FFFFFF;\n",
              "      }\n",
              "    </style>\n",
              "    <button class=\"colab-df-generate\" onclick=\"generateWithVariable('scores')\"\n",
              "            title=\"Generate code using this dataframe.\"\n",
              "            style=\"display:none;\">\n",
              "\n",
              "  <svg xmlns=\"http://www.w3.org/2000/svg\" height=\"24px\"viewBox=\"0 0 24 24\"\n",
              "       width=\"24px\">\n",
              "    <path d=\"M7,19H8.4L18.45,9,17,7.55,7,17.6ZM5,21V16.75L18.45,3.32a2,2,0,0,1,2.83,0l1.4,1.43a1.91,1.91,0,0,1,.58,1.4,1.91,1.91,0,0,1-.58,1.4L9.25,21ZM18.45,9,17,7.55Zm-12,3A5.31,5.31,0,0,0,4.9,8.1,5.31,5.31,0,0,0,1,6.5,5.31,5.31,0,0,0,4.9,4.9,5.31,5.31,0,0,0,6.5,1,5.31,5.31,0,0,0,8.1,4.9,5.31,5.31,0,0,0,12,6.5,5.46,5.46,0,0,0,6.5,12Z\"/>\n",
              "  </svg>\n",
              "    </button>\n",
              "    <script>\n",
              "      (() => {\n",
              "      const buttonEl =\n",
              "        document.querySelector('#id_472629e4-0274-4873-874c-b67b06ce6a9d button.colab-df-generate');\n",
              "      buttonEl.style.display =\n",
              "        google.colab.kernel.accessAllowed ? 'block' : 'none';\n",
              "\n",
              "      buttonEl.onclick = () => {\n",
              "        google.colab.notebook.generateWithVariable('scores');\n",
              "      }\n",
              "      })();\n",
              "    </script>\n",
              "  </div>\n",
              "\n",
              "    </div>\n",
              "  </div>\n"
            ],
            "application/vnd.google.colaboratory.intrinsic+json": {
              "type": "dataframe",
              "variable_name": "scores",
              "summary": "{\n  \"name\": \"scores\",\n  \"rows\": 4,\n  \"fields\": [\n    {\n      \"column\": \"Logistic Regression\",\n      \"properties\": {\n        \"dtype\": \"number\",\n        \"std\": 0.08213356103978302,\n        \"min\": 0.6112963951935915,\n        \"max\": 0.7806666666666666,\n        \"num_unique_values\": 3,\n        \"samples\": [\n          0.7806666666666666,\n          0.6112963951935915,\n          0.6856772744290527\n        ],\n        \"semantic_type\": \"\",\n        \"description\": \"\"\n      }\n    },\n    {\n      \"column\": \"Random Forest Classifier\",\n      \"properties\": {\n        \"dtype\": \"number\",\n        \"std\": 0.039252426015069945,\n        \"min\": 0.6903637323943661,\n        \"max\": 0.7646666666666667,\n        \"num_unique_values\": 3,\n        \"samples\": [\n          0.7646666666666667,\n          0.6903637323943661,\n          0.7044656763484375\n        ],\n        \"semantic_type\": \"\",\n        \"description\": \"\"\n      }\n    },\n    {\n      \"column\": \"KNN Classifier\",\n      \"properties\": {\n        \"dtype\": \"number\",\n        \"std\": 0.03502629786992965,\n        \"min\": 0.6934677270049652,\n        \"max\": 0.7606666666666667,\n        \"num_unique_values\": 3,\n        \"samples\": [\n          0.7606666666666667,\n          0.6934677270049652,\n          0.7083770076675561\n        ],\n        \"semantic_type\": \"\",\n        \"description\": \"\"\n      }\n    },\n    {\n      \"column\": \"Gradient Boosting Classifier\",\n      \"properties\": {\n        \"dtype\": \"number\",\n        \"std\": 0.07182417942901492,\n        \"min\": 0.6306079736247635,\n        \"max\": 0.776,\n        \"num_unique_values\": 3,\n        \"samples\": [\n          0.776,\n          0.6306079736247635,\n          0.6845852075451566\n        ],\n        \"semantic_type\": \"\",\n        \"description\": \"\"\n      }\n    },\n    {\n      \"column\": \"XGBoost\",\n      \"properties\": {\n        \"dtype\": \"number\",\n        \"std\": 0.03438616237672374,\n        \"min\": 0.6852317620091688,\n        \"max\": 0.7526666666666667,\n        \"num_unique_values\": 3,\n        \"samples\": [\n          0.7526666666666667,\n          0.6852317620091688,\n          0.7039692818633574\n        ],\n        \"semantic_type\": \"\",\n        \"description\": \"\"\n      }\n    },\n    {\n      \"column\": \"CatBoost\",\n      \"properties\": {\n        \"dtype\": \"number\",\n        \"std\": 0.05580432428442297,\n        \"min\": 0.6645051220141119,\n        \"max\": 0.772,\n        \"num_unique_values\": 3,\n        \"samples\": [\n          0.772,\n          0.6645051220141119,\n          0.6894217477774567\n        ],\n        \"semantic_type\": \"\",\n        \"description\": \"\"\n      }\n    },\n    {\n      \"column\": \"SVM Classification\",\n      \"properties\": {\n        \"dtype\": \"number\",\n        \"std\": 0.07353309152110406,\n        \"min\": 0.5733333333333334,\n        \"max\": 0.7285339222181328,\n        \"num_unique_values\": 3,\n        \"samples\": [\n          0.5733333333333334,\n          0.7285339222181328,\n          0.6103156768325307\n        ],\n        \"semantic_type\": \"\",\n        \"description\": \"\"\n      }\n    }\n  ]\n}"
            }
          },
          "metadata": {},
          "execution_count": 61
        }
      ]
    },
    {
      "cell_type": "markdown",
      "source": [
        "# Visualizing model performances:"
      ],
      "metadata": {
        "id": "cSyzpdY_fDDf"
      }
    },
    {
      "cell_type": "code",
      "source": [
        "scores.T.plot(kind='bar', figsize=(15,4) )\n",
        "plt.grid()\n",
        "plt.show()\n"
      ],
      "metadata": {
        "colab": {
          "base_uri": "https://localhost:8080/",
          "height": 548
        },
        "id": "6WPZb6czOkxR",
        "outputId": "5e1f7838-5a0b-4a84-a148-376769b0f3ef"
      },
      "execution_count": 62,
      "outputs": [
        {
          "output_type": "display_data",
          "data": {
            "text/plain": [
              "<Figure size 1500x400 with 1 Axes>"
            ],
            "image/png": "[encoded data removed]"
          },
          "metadata": {}
        }
      ]
    },
    {
      "cell_type": "markdown",
      "source": [
        "Considering that the dataset is unbalanced, it is wise to choose a model that balances both precision and recall. The F1-score provides a good measure of this balance, as it is the harmonic mean of precision and recall. Therefore, the `KNN Classifier` stands out as the ***best performing model*** because it has the highest F1-score, indicating its superior ability to manage the trade-off between precision and recall effectively."
      ],
      "metadata": {
        "id": "OvD11IxOhSn6"
      }
    },
    {
      "cell_type": "code",
      "source": [],
      "metadata": {
        "id": "4yNtad6XgUug"
      },
      "execution_count": null,
      "outputs": []
    }
  ]
}